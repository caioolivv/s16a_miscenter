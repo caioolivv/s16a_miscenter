{
 "cells": [
  {
   "cell_type": "markdown",
   "metadata": {},
   "source": [
    "# Setup libraries"
   ]
  },
  {
   "cell_type": "code",
   "execution_count": null,
   "metadata": {},
   "outputs": [],
   "source": [
    "import os\n",
    "import sys\n",
    "import numpy as np\n",
    "from astropy.table import Table, join, vstack\n",
    "from tqdm import tqdm\n",
    "from scipy.optimize import fsolve\n",
    "\n",
    "from numcosmo_py import nc\n",
    "from numcosmo_py import ncm\n",
    "\n",
    "__name__ = \"NcContext\"\n",
    "\n",
    "ncm.cfg_init()\n",
    "ncm.cfg_set_log_handler(lambda msg: sys.stdout.write(msg) and sys.stdout.flush())"
   ]
  },
  {
   "cell_type": "markdown",
   "metadata": {},
   "source": [
    "# Load the cluster and shear catalogs\n",
    "\n",
    "You may choose different cluster catalogs, but be sure that they have the columns: `name`, `ra`, and `dec` (you may have to adjust the case of these column names)."
   ]
  },
  {
   "cell_type": "code",
   "execution_count": null,
   "metadata": {},
   "outputs": [],
   "source": [
    "cluster_catalog = Table.read(\"hamana_clusters.fits\")\n",
    "shear_catalog = Table.read(\"s16a_shear_catalog.fits\")"
   ]
  },
  {
   "cell_type": "markdown",
   "metadata": {},
   "source": [
    "# Create individual shear catalogs for each cluster\n",
    "\n",
    "We create a directory `clusters` and inside of it create a new `cluster_name` directory for each cluster. Each directory then holds the `fits` file with the raw individual shear catalog. These are created by selecting all galaxies within a square of side 1 degree centered on the cluster coordinates. Then we select the pz catalogs for the present tracts and join the shear and pz catalogs using the `object_id` column."
   ]
  },
  {
   "cell_type": "code",
   "execution_count": null,
   "metadata": {},
   "outputs": [],
   "source": [
    "if not os.path.exists(\"clusters\"):\n",
    "    os.makedirs(\"clusters\")\n",
    "\n",
    "for cluster in tqdm(cluster_catalog):\n",
    "    ra = cluster[\"ra\"]\n",
    "    dec = cluster[\"dec\"]\n",
    "    z = cluster[\"z\"]\n",
    "\n",
    "    cosmo = nc.HICosmoDEXcdm()\n",
    "\n",
    "    cosmo.params_set_default_ftype()\n",
    "    cosmo.omega_x2omega_k()\n",
    "\n",
    "    cosmo[\"H0\"] = 69.7\n",
    "    cosmo[\"Omegab\"] = 0.0464\n",
    "    cosmo[\"Omegac\"] = 0.235\n",
    "    cosmo[\"w\"] = -1.0\n",
    "    cosmo[\"Omegak\"] = 0.00\n",
    "\n",
    "    prim = nc.HIPrimPowerLaw.new()\n",
    "    prim[\"ln10e10ASA\"] = 3.02745\n",
    "    prim[\"n_SA\"] = 0.9660\n",
    "\n",
    "    reion = nc.HIReionCamb.new()\n",
    "\n",
    "    cosmo.add_submodel(prim)\n",
    "    cosmo.add_submodel(reion)\n",
    "\n",
    "    dist = nc.Distance.new(6.0)\n",
    "    halo_position = nc.HaloPosition.new(dist)\n",
    "\n",
    "    halo_position.prepare(cosmo)\n",
    "\n",
    "    halo_position[\"ra\"] = ra\n",
    "    halo_position[\"dec\"] = dec\n",
    "    halo_position[\"z\"] = z\n",
    "\n",
    "    half_box_side = fsolve(\n",
    "        lambda sep: halo_position.projected_radius_from_ra_dec(cosmo, ra, dec + sep)\n",
    "        - 5.0,\n",
    "        0.5,\n",
    "    )[0]\n",
    "\n",
    "    cluster_shear_catalog = shear_catalog[\n",
    "        (np.abs(shear_catalog[\"ira\"] - ra) < half_box_side / np.cos(np.radians(dec)))\n",
    "        & (np.abs(shear_catalog[\"idec\"] - dec) < half_box_side)\n",
    "    ]\n",
    "\n",
    "    pz_catalogs = []\n",
    "\n",
    "    for tract in np.unique(cluster_shear_catalog[\"tract\"]):\n",
    "        for root, dirs, files in os.walk(\"pz\"):\n",
    "            for f in files:\n",
    "                if str(tract) in f:\n",
    "                    _ = Table.read(root + \"/\" + f)\n",
    "                    pz_catalogs.append(_)\n",
    "\n",
    "    pz_catalog = vstack(pz_catalogs)\n",
    "\n",
    "    cluster_shear_catalog = join(pz_catalog, cluster_shear_catalog, keys=\"object_id\")\n",
    "\n",
    "    if not os.path.exists(f\"clusters/{cluster['wl_name']}\"):\n",
    "        os.makedirs(f\"clusters/{cluster['wl_name']}\")\n",
    "\n",
    "    cluster_shear_catalog.write(\n",
    "        f\"clusters/{cluster['wl_name']}/{cluster['wl_name']}_raw_shear_catalog.fits\",\n",
    "        overwrite=True,\n",
    "    )"
   ]
  }
 ],
 "metadata": {
  "kernelspec": {
   "display_name": "Python 3",
   "language": "python",
   "name": "python3"
  },
  "language_info": {
   "codemirror_mode": {
    "name": "ipython",
    "version": 3
   },
   "file_extension": ".py",
   "mimetype": "text/x-python",
   "name": "python",
   "nbconvert_exporter": "python",
   "pygments_lexer": "ipython3",
   "version": "3.12.8"
  }
 },
 "nbformat": 4,
 "nbformat_minor": 2
}
