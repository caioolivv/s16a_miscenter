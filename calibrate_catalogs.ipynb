{
 "cells": [
  {
   "cell_type": "markdown",
   "metadata": {},
   "source": [
    "# Setup libraries"
   ]
  },
  {
   "cell_type": "code",
   "execution_count": 1,
   "metadata": {},
   "outputs": [],
   "source": [
    "import os\n",
    "import numpy as np"
   ]
  },
  {
   "cell_type": "markdown",
   "metadata": {},
   "source": [
    "# Cleaning and calibration functions\n",
    "\n",
    "These functions follow the cuts and calibration defined in Mandelbaum 2017. The code for them was taken from [CLMM's](https://github.com/LSSTDESC/CLMM) `Example4_Fit_Halo_mass_to_HSC_data.ipynb`. All credit belongs to the original authors.\n",
    "\n",
    "Observation: the cut based on `photoz_risk_best` is not done for P(z) pdf catalog."
   ]
  },
  {
   "cell_type": "code",
   "execution_count": 2,
   "metadata": {},
   "outputs": [],
   "source": [
    "def make_cuts(catalog_in, is_pdf):\n",
    "    # We consider some cuts in Mandelbaum et al. 2018 (HSC SSP Y1 shear catalog).\n",
    "    select = catalog_in[\"detect_is_primary\"] == True\n",
    "    select &= catalog_in[\"icmodel_flux_flags\"] == False\n",
    "    select &= catalog_in[\"iclassification_extendedness\"] > 0.5\n",
    "    select &= catalog_in[\"icmodel_mag_err\"] <= 2.5 / np.log(10.0) / 10.0\n",
    "    select &= (\n",
    "        catalog_in[\"ishape_hsm_regauss_e1\"] ** 2\n",
    "        + catalog_in[\"ishape_hsm_regauss_e2\"] ** 2\n",
    "        < 4.0\n",
    "    )\n",
    "    select &= catalog_in[\"icmodel_mag\"] <= 24.5\n",
    "    select &= catalog_in[\"iblendedness_abs_flux\"] < (10 ** (-0.375))\n",
    "    select &= (\n",
    "        catalog_in[\"ishape_hsm_regauss_resolution\"] >= 0.3\n",
    "    )  # similar to extendedness\n",
    "    select &= catalog_in[\"ishape_hsm_regauss_sigma\"] <= 0.4\n",
    "    # Note \"zbest\" minimizes the risk of the photo-z point estimate being far away from the true value.\n",
    "    # Details: https://hsc-release.mtk.nao.ac.jp/doc/wp-content/uploads/2017/02/pdr1_photoz_release_note.pdf\n",
    "    if not is_pdf:\n",
    "        select &= catalog_in[\"photoz_risk_best\"] < 0.5\n",
    "\n",
    "    catalog_out = catalog_in[select]\n",
    "\n",
    "    return catalog_out\n",
    "\n",
    "\n",
    "# Reference: Mandelbaum et al. 2018 \"The first-year shear catalog of the Subaru Hyper Suprime-Cam Subaru Strategic Program Survey\".\n",
    "# Section A.3.2: \"per-object galaxy shear estimate\".\n",
    "def apply_shear_calibration(catalog_in):\n",
    "    e1_0 = catalog_in[\"ishape_hsm_regauss_e1\"]\n",
    "    e2_0 = catalog_in[\"ishape_hsm_regauss_e2\"]\n",
    "    e_rms = catalog_in[\"ishape_hsm_regauss_derived_rms_e\"]\n",
    "    m = catalog_in[\"ishape_hsm_regauss_derived_shear_bias_m\"]\n",
    "    c1 = catalog_in[\"ishape_hsm_regauss_derived_shear_bias_c1\"]\n",
    "    c2 = catalog_in[\"ishape_hsm_regauss_derived_shear_bias_c2\"]\n",
    "    weight = catalog_in[\"ishape_hsm_regauss_derived_shape_weight\"]\n",
    "\n",
    "    R = 1.0 - np.sum(weight * e_rms**2.0) / np.sum(weight)\n",
    "    m_mean = np.sum(weight * m) / np.sum(weight)\n",
    "\n",
    "    g1 = (e1_0 / (2.0 * R) - c1) / (1.0 + m_mean)\n",
    "    g2 = (e2_0 / (2.0 * R) - c2) / (1.0 + m_mean)\n",
    "\n",
    "    return g1, g2"
   ]
  },
  {
   "cell_type": "code",
   "execution_count": 3,
   "metadata": {},
   "outputs": [],
   "source": [
    "for root, dirs, files in os.walk(\"clusters\"):\n",
    "    for file in files:\n",
    "        if file.endswith(\"_raw_shear_catalog.fits\"):\n",
    "            raw_catalog = Table.read(os.path.join(root, file))\n",
    "\n",
    "            catalog = make_cuts(raw_catalog, is_pdf=False)\n",
    "            catalog_pdf = make_cuts(raw_catalog, is_pdf=True)\n",
    "            g1, g2 = apply_shear_calibration(catalog)\n",
    "            g1_pdf, g2_pdf = apply_shear_calibration(catalog_pdf)\n",
    "            catalog[\"e1\"] = g1\n",
    "            catalog[\"e2\"] = g2\n",
    "            catalog_pdf[\"e1\"] = g1_pdf\n",
    "            catalog_pdf[\"e2\"] = g2_pdf\n",
    "\n",
    "            catalog.write(\n",
    "                os.path.join(\n",
    "                    root, file.replace(\"_raw_shear_catalog\", \"_shear_catalog\")\n",
    "                ),\n",
    "                overwrite=True,\n",
    "            )\n",
    "            catalog_pdf.write(\n",
    "                os.path.join(\n",
    "                    root, file.replace(\"_raw_shear_catalog\", \"_shear_catalog_pdf\")\n",
    "                ),\n",
    "                overwrite=True,\n",
    "            )"
   ]
  }
 ],
 "metadata": {
  "kernelspec": {
   "display_name": "Python 3",
   "language": "python",
   "name": "python3"
  },
  "language_info": {
   "codemirror_mode": {
    "name": "ipython",
    "version": 3
   },
   "file_extension": ".py",
   "mimetype": "text/x-python",
   "name": "python",
   "nbconvert_exporter": "python",
   "pygments_lexer": "ipython3",
   "version": "3.12.7"
  }
 },
 "nbformat": 4,
 "nbformat_minor": 2
}
