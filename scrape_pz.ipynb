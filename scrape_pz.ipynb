{
 "cells": [
  {
   "cell_type": "markdown",
   "metadata": {},
   "source": [
    "# Setup libraries"
   ]
  },
  {
   "cell_type": "code",
   "execution_count": 1,
   "metadata": {},
   "outputs": [],
   "source": [
    "import os\n",
    "import requests\n",
    "from requests.auth import HTTPBasicAuth\n",
    "from bs4 import BeautifulSoup\n",
    "from tqdm import tqdm\n",
    "import subprocess"
   ]
  },
  {
   "cell_type": "markdown",
   "metadata": {},
   "source": [
    "# Setup options\n",
    "\n",
    "Adjust `photoz_method` to choose your preferred photo-z estimate. Also, be sure to add your credentials to `auth` before running this notebook."
   ]
  },
  {
   "cell_type": "code",
   "execution_count": 2,
   "metadata": {},
   "outputs": [],
   "source": [
    "# Choose your photo-z method\n",
    "PHOTO_Z_METHOD = \"mlz\"\n",
    "# Insert your HSC user and password\n",
    "auth = HTTPBasicAuth(\"user\", \"pass\")\n",
    "\n",
    "PZ_URL = \"https://hsc-release.mtk.nao.ac.jp/archive/filetree/s16a-shape-catalog/\""
   ]
  },
  {
   "cell_type": "markdown",
   "metadata": {},
   "source": [
    "# Downloading the data\n",
    "\n",
    "Now we create the `pz` directory and download the photo-z pdf bins definitions:"
   ]
  },
  {
   "cell_type": "code",
   "execution_count": 3,
   "metadata": {},
   "outputs": [],
   "source": [
    "pz_bins_request = requests.get(PZ_URL, auth=auth, timeout=10)\n",
    "pz_bins_soup = BeautifulSoup(pz_bins_request.text, \"html.parser\")\n",
    "\n",
    "if not os.path.exists(\"pz\"):\n",
    "    os.makedirs(\"pz\")\n",
    "\n",
    "for file in pz_bins_soup.find_all(\"a\"):\n",
    "    if PHOTO_Z_METHOD in file.get(\"href\"):\n",
    "        pz_bins_definition_request = requests.get(\n",
    "            f\"{PZ_URL}{file.get('href')}\", stream=True, auth=auth, timeout=10\n",
    "        )\n",
    "\n",
    "        with open(f\"pz/s16a_pz_pdf_bins.fits\", \"wb\") as f:\n",
    "            for chunk in pz_bins_definition_request.iter_content(chunk_size=10*1024*1024):\n",
    "                if chunk:\n",
    "                    f.write(chunk)"
   ]
  },
  {
   "cell_type": "markdown",
   "metadata": {},
   "source": [
    "Finally, we iterate through the HSC fields and download the tract data for the chosen photo-z method. Each `fits` object is downloaded in its own field directory inside `pz`."
   ]
  },
  {
   "cell_type": "code",
   "execution_count": 4,
   "metadata": {},
   "outputs": [],
   "source": [
    "pz_fields_request = requests.get(PZ_URL + \"Sirius/\", auth=auth, timeout=10)\n",
    "pz_fields_soup = BeautifulSoup(pz_fields_request.content, \"html.parser\")\n",
    "\n",
    "URIS_FILE = \"pz/uris.txt\"\n",
    "\n",
    "with open(URIS_FILE, \"w\", encoding=\"UTF8\") as f:\n",
    "    for field in tqdm(pz_fields_soup.find_all(\"a\")):\n",
    "        if field[\"href\"] == \"../\":\n",
    "            continue\n",
    "\n",
    "        pz_tracts_request = requests.get(\n",
    "            PZ_URL + \"Sirius/\" + field[\"href\"], auth=auth, timeout=10\n",
    "        )\n",
    "        pz_tracts_soup = BeautifulSoup(pz_tracts_request.content, \"html.parser\")\n",
    "\n",
    "        if not os.path.exists(f\"pz/{field['href']}\"):\n",
    "            os.makedirs(f\"pz/{field['href']}\")\n",
    "\n",
    "        for file in tqdm(pz_tracts_soup.find_all(\"a\")):\n",
    "            if PHOTO_Z_METHOD not in file[\"href\"]:\n",
    "                continue\n",
    "\n",
    "            fits_url = PZ_URL + \"Sirius/\" + field[\"href\"] + file[\"href\"]\n",
    "\n",
    "            file_name = f\"pz/{field['href']}{file['href'].split('_')[0]}_pz_pdf.fits\"\n",
    "\n",
    "            f.write(fits_url + \"\\n\")\n",
    "            f.write(f\"  out={file_name}\\n\")"
   ]
  },
  {
   "cell_type": "code",
   "execution_count": 5,
   "metadata": {},
   "outputs": [],
   "source": [
    "subprocess.run(\n",
    "    [\n",
    "        \"aria2c\",\n",
    "        f\"--http-user={auth.username}\",\n",
    "        f\"--http-passwd={auth.password}\",\n",
    "        \"--max-connection-per-server=16\",\n",
    "        \"--split=16\",\n",
    "        \"--max-tries=100\",\n",
    "        \"--retry-wait=10\",\n",
    "        f\"--input-file={URIS_FILE}\",\n",
    "    ],\n",
    "    check=True,\n",
    ")\n",
    "\n",
    "subprocess.run([\"rm\", URIS_FILE], check=True)"
   ]
  }
 ],
 "metadata": {
  "kernelspec": {
   "display_name": "Python 3",
   "language": "python",
   "name": "python3"
  },
  "language_info": {
   "codemirror_mode": {
    "name": "ipython",
    "version": 3
   },
   "file_extension": ".py",
   "mimetype": "text/x-python",
   "name": "python",
   "nbconvert_exporter": "python",
   "pygments_lexer": "ipython3",
   "version": "3.12.8"
  }
 },
 "nbformat": 4,
 "nbformat_minor": 2
}
